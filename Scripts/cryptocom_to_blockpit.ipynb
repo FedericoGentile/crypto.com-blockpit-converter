{
 "cells": [
  {
   "cell_type": "code",
   "execution_count": null,
   "id": "48f14268",
   "metadata": {
    "ExecuteTime": {
     "end_time": "2022-03-22T21:29:49.164529Z",
     "start_time": "2022-03-22T21:29:48.579541Z"
    }
   },
   "outputs": [],
   "source": [
    "import pandas as pd"
   ]
  },
  {
   "cell_type": "code",
   "execution_count": null,
   "id": "bf76b4ef",
   "metadata": {
    "ExecuteTime": {
     "end_time": "2022-03-22T21:29:49.196535Z",
     "start_time": "2022-03-22T21:29:49.172538Z"
    }
   },
   "outputs": [],
   "source": [
    "df = pd.read_csv(\"../Data/crypto_transactions_record_20220322_185347.csv\", sep=\",\")"
   ]
  },
  {
   "cell_type": "code",
   "execution_count": null,
   "id": "51494d91",
   "metadata": {
    "ExecuteTime": {
     "end_time": "2022-03-22T21:29:49.227532Z",
     "start_time": "2022-03-22T21:29:49.199540Z"
    }
   },
   "outputs": [],
   "source": [
    "def parse_crypto_purchase(row):\n",
    "\n",
    "    fee_percent = 0.029\n",
    "    df_row = pd.DataFrame({'exchange_name': ['crypto.com'],\n",
    "     'depot_name': ['crypto.com'],\n",
    "     'transaction_date':[pd.to_datetime(row['Timestamp (UTC)']).strftime(\"%d/%m/%Y %H:%M:%S\")],\n",
    "     'buy_asset': [row['Currency']],\n",
    "     'buy_amount':[row['Amount']],\n",
    "     'sell_asset':[row['Native Currency']],\n",
    "     'sell_amount':[row['Native Amount']],\n",
    "     'fee_asset':[row['Native Currency']],\n",
    "     'fee_amount':[round(row['Native Amount']/(1-fee_percent)*fee_percent,2)],\n",
    "     'transaction_type':['trade'],\n",
    "     'note':[row['Transaction Kind']]})\n",
    "    \n",
    "    return df_row\n",
    "\n",
    "def parse_viban_purchase(row):\n",
    "    \n",
    "    df_row = pd.DataFrame({'exchange_name': ['crypto.com'],\n",
    "     'depot_name': ['crypto.com'],\n",
    "     'transaction_date':[pd.to_datetime(row['Timestamp (UTC)']).strftime(\"%d/%m/%Y %H:%M:%S\")],\n",
    "     'buy_asset': [row['To Currency']],\n",
    "     'buy_amount':[row['To Amount']],\n",
    "     'sell_asset':[row['Currency']],\n",
    "     'sell_amount':[abs(row['Amount'])],\n",
    "     'fee_asset':[None],\n",
    "     'fee_amount':[None],\n",
    "     'transaction_type':['trade'],\n",
    "     'note':[row['Transaction Kind']]})\n",
    "    \n",
    "    return df_row\n",
    "\n",
    "def parse_referral_card_cashback(row):\n",
    "    \n",
    "    df_row = pd.DataFrame({'exchange_name': ['crypto.com'],\n",
    "     'depot_name': ['crypto.com'],\n",
    "     'transaction_date':[pd.to_datetime(row['Timestamp (UTC)']).strftime(\"%d/%m/%Y %H:%M:%S\")],\n",
    "     'buy_asset': [row['Currency']],\n",
    "     'buy_amount':[row['Amount']],\n",
    "     'sell_asset':[None],\n",
    "     'sell_amount':[None],\n",
    "     'fee_asset':[None],\n",
    "     'fee_amount':[None],\n",
    "     'transaction_type':['airdrop'],\n",
    "     'note':[row['Transaction Kind']]})\n",
    "    \n",
    "    return df_row\n",
    "\n",
    "def parse_referral_gift(row):\n",
    "    \n",
    "    df_row = pd.DataFrame({'exchange_name': ['crypto.com'],\n",
    "     'depot_name': ['crypto.com'],\n",
    "     'transaction_date':[pd.to_datetime(row['Timestamp (UTC)']).strftime(\"%d/%m/%Y %H:%M:%S\")],\n",
    "     'buy_asset': [row['Currency']],\n",
    "     'buy_amount':[row['Amount']],\n",
    "     'sell_asset':[None],\n",
    "     'sell_amount':[None],\n",
    "     'fee_asset':[None],\n",
    "     'fee_amount':[None],\n",
    "     'transaction_type':['airdrop'],\n",
    "     'note':[row['Transaction Kind']]})\n",
    "    \n",
    "    return df_row"
   ]
  },
  {
   "cell_type": "code",
   "execution_count": null,
   "id": "4ca95743",
   "metadata": {
    "ExecuteTime": {
     "end_time": "2022-03-22T21:29:50.036540Z",
     "start_time": "2022-03-22T21:29:49.230537Z"
    }
   },
   "outputs": [],
   "source": [
    "df_out = pd.DataFrame()\n",
    "\n",
    "for i, row in df.iterrows():\n",
    "    \n",
    "    transaction_kind = row['Transaction Kind']\n",
    "    \n",
    "    if transaction_kind == 'crypto_purchase':\n",
    "        df_row = parse_crypto_purchase(row)\n",
    "    elif transaction_kind == 'viban_purchase':\n",
    "        df_row = parse_viban_purchase(row)\n",
    "    elif transaction_kind == 'referral_card_cashback':\n",
    "        df_row = parse_referral_card_cashback(row)\n",
    "    elif transaction_kind == 'referral_gift':\n",
    "        df_row = parse_referral_gift(row)\n",
    "    else:\n",
    "        print(transaction_kind)\n",
    "        df_row = pd.DataFrame()\n",
    "        \n",
    "    df_out = pd.concat([df_out, df_row], axis=0)\n",
    "\n",
    "df_out = df_out.reset_index(drop=True).reset_index(drop=False).rename(columns={'index':'id'})\n",
    "df_out['linked_transaction'] = ''"
   ]
  },
  {
   "cell_type": "code",
   "execution_count": null,
   "id": "911fe2d8",
   "metadata": {
    "ExecuteTime": {
     "end_time": "2022-03-22T21:29:54.606806Z",
     "start_time": "2022-03-22T21:29:54.585797Z"
    }
   },
   "outputs": [],
   "source": [
    "df_out.to_excel('../Data/cryptocom.xlsx', index=False)"
   ]
  }
 ],
 "metadata": {
  "hide_input": false,
  "kernelspec": {
   "display_name": "Python 3 (ipykernel)",
   "language": "python",
   "name": "python3"
  },
  "language_info": {
   "codemirror_mode": {
    "name": "ipython",
    "version": 3
   },
   "file_extension": ".py",
   "mimetype": "text/x-python",
   "name": "python",
   "nbconvert_exporter": "python",
   "pygments_lexer": "ipython3",
   "version": "3.7.6"
  },
  "toc": {
   "base_numbering": 1,
   "nav_menu": {},
   "number_sections": true,
   "sideBar": true,
   "skip_h1_title": false,
   "title_cell": "Table of Contents",
   "title_sidebar": "Contents",
   "toc_cell": false,
   "toc_position": {},
   "toc_section_display": true,
   "toc_window_display": false
  }
 },
 "nbformat": 4,
 "nbformat_minor": 5
}
